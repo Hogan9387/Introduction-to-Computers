{
  "nbformat": 4,
  "nbformat_minor": 0,
  "metadata": {
    "colab": {
      "provenance": [],
      "authorship_tag": "ABX9TyPP8BrgxD+BCkfS/EBc2eM4",
      "include_colab_link": true
    },
    "kernelspec": {
      "name": "python3",
      "display_name": "Python 3"
    },
    "language_info": {
      "name": "python"
    }
  },
  "cells": [
    {
      "cell_type": "markdown",
      "metadata": {
        "id": "view-in-github",
        "colab_type": "text"
      },
      "source": [
        "<a href=\"https://colab.research.google.com/github/Hogan9387/Introduction-to-Computers/blob/main/0515.ipynb\" target=\"_parent\"><img src=\"https://colab.research.google.com/assets/colab-badge.svg\" alt=\"Open In Colab\"/></a>"
      ]
    },
    {
      "cell_type": "code",
      "execution_count": null,
      "metadata": {
        "colab": {
          "base_uri": "https://localhost:8080/"
        },
        "id": "ijBhAzxbRPT3",
        "outputId": "43af893c-3daf-4dbe-df6c-ea885f922343"
      },
      "outputs": [
        {
          "output_type": "stream",
          "name": "stdout",
          "text": [
            "0515\n"
          ]
        }
      ],
      "source": [
        "print('0515')"
      ]
    },
    {
      "cell_type": "code",
      "source": [
        "rain = str(input(\"今天會下雨嗎?\"))\n",
        "if (rain==\"y\" or rain==\"Y\"):\n",
        "  print(\"出門記得帶傘!\")  \n",
        "elif (rain==\"n\" or rain==\"N\"):\n",
        "  print(\"今天天氣很好，出門不用帶傘\") \n",
        "else:\n",
        "   print(\"輸入錯誤\")\n"
      ],
      "metadata": {
        "colab": {
          "base_uri": "https://localhost:8080/"
        },
        "id": "ALDXAxPDRQzf",
        "outputId": "b3901d66-5cee-4dc3-f3d8-43d1fe77c113"
      },
      "execution_count": 3,
      "outputs": [
        {
          "output_type": "stream",
          "name": "stdout",
          "text": [
            "今天會下雨嗎?n\n",
            "今天天氣很好，出門不用帶傘\n"
          ]
        }
      ]
    },
    {
      "cell_type": "code",
      "source": [
        "rain = str(input(\"今天會下雨嗎?\"))\n",
        "if (rain==\"y\" or rain==\"Y\"):\n",
        "  print(\"出門記得帶傘!\")  \n",
        "elif (rain==\"n\" or rain==\"N\"):\n",
        "  print(\"今天天氣很好，出門不用帶傘\") \n",
        "else:\n",
        "   print(\"輸入錯誤\")\n"
      ],
      "metadata": {
        "colab": {
          "base_uri": "https://localhost:8080/"
        },
        "outputId": "d37110a4-5f23-4d5e-ae44-59cc4e28a3f5",
        "id": "KOGMYuoZds_H"
      },
      "execution_count": 4,
      "outputs": [
        {
          "output_type": "stream",
          "name": "stdout",
          "text": [
            "今天會下雨嗎?s\n",
            "輸入錯誤\n"
          ]
        }
      ]
    },
    {
      "cell_type": "code",
      "source": [
        "temperature = float(input(\"請輸入體溫\"))\n",
        "if (temperature>=37.5): \n",
        "  print(\"體溫過高!\")  \n",
        "elif (37.4>temperature>37): \n",
        "  print(\"體溫略高!\")\n",
        "elif (36.9>temperature>34):\n",
        "  print(\"體溫正常!\")\n",
        "else : \n",
        "  print(\"體溫異常，請重新量測!\")"
      ],
      "metadata": {
        "colab": {
          "base_uri": "https://localhost:8080/"
        },
        "id": "kNzlzXOld6Hp",
        "outputId": "4b5a4d13-9cde-4989-c51e-5d61b4506717"
      },
      "execution_count": 9,
      "outputs": [
        {
          "output_type": "stream",
          "name": "stdout",
          "text": [
            "請輸入體溫30\n",
            "體溫異常，請重新量測!\n"
          ]
        }
      ]
    },
    {
      "cell_type": "code",
      "source": [
        "score = int(input(\"請輸入成績\"))\n",
        "if (score>=90): \n",
        "  print(\"A\")\n",
        "elif (89>score>80): \n",
        "  print(\"B\")  \n",
        "elif (79>score>70): \n",
        "  print(\"C\")\n",
        "elif (69>score>60): \n",
        "  print(\"D\")\n",
        "else :  \n",
        "  print(\"E\")"
      ],
      "metadata": {
        "colab": {
          "base_uri": "https://localhost:8080/"
        },
        "id": "lpQ-L_tOgyMw",
        "outputId": "1464e7d7-2c15-4bd3-8ccf-910334a8aae4"
      },
      "execution_count": 13,
      "outputs": [
        {
          "output_type": "stream",
          "name": "stdout",
          "text": [
            "請輸入成績90\n",
            "A\n"
          ]
        }
      ]
    },
    {
      "cell_type": "code",
      "source": [
        "month = int(input(\"請輸入月份：\"))\n",
        "\n",
        "if (month in [3, 4, 5]):\n",
        "    print(f\"{month}月是春天！\")\n",
        "elif (month in [6, 7, 8]):\n",
        "    print(f\"{month}月是夏天！\")\n",
        "elif (month in [9, 10, 11]):\n",
        "    print(f\"{month}月是秋天！\")\n",
        "elif (month in [12, 1, 2]):\n",
        "    print(f\"{month}月是冬天！\")\n",
        "else:\n",
        "    print(\"月份不在範圍內。\")"
      ],
      "metadata": {
        "colab": {
          "base_uri": "https://localhost:8080/"
        },
        "id": "sbOP3lujiPn2",
        "outputId": "5c293613-cd0c-4d20-a164-b20696bce701"
      },
      "execution_count": 17,
      "outputs": [
        {
          "output_type": "stream",
          "name": "stdout",
          "text": [
            "請輸入月份：15\n",
            "月份不在範圍內。\n"
          ]
        }
      ]
    },
    {
      "cell_type": "code",
      "source": [
        "income = int(input(\"請輸入收入金額：\"))\n",
        "\n",
        "if (income >= 2000000):\n",
        "    rate = 0.3\n",
        "elif (income >= 1000000):\n",
        "    rate = 0.21\n",
        "elif (income >= 600000):\n",
        "    rate = 0.13\n",
        "elif (income >= 300000):\n",
        "    rate = 0.06\n",
        "else :\n",
        "    rate = 0\n",
        "\n",
        "tax = income * rate\n",
        "print(f\"所得稅金額為：{tax}\")\n"
      ],
      "metadata": {
        "colab": {
          "base_uri": "https://localhost:8080/"
        },
        "id": "a-so3OyBkIhv",
        "outputId": "ac339d92-3d9f-4998-91b4-c1cbfac142c2"
      },
      "execution_count": 19,
      "outputs": [
        {
          "output_type": "stream",
          "name": "stdout",
          "text": [
            "請輸入收入金額：20000\n",
            "所得稅金額為：0\n"
          ]
        }
      ]
    }
  ]
}