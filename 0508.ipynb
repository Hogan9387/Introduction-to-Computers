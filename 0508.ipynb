{
  "nbformat": 4,
  "nbformat_minor": 0,
  "metadata": {
    "colab": {
      "provenance": [],
      "authorship_tag": "ABX9TyMMrH93xtRCPf9RLyHU92rN",
      "include_colab_link": true
    },
    "kernelspec": {
      "name": "python3",
      "display_name": "Python 3"
    },
    "language_info": {
      "name": "python"
    }
  },
  "cells": [
    {
      "cell_type": "markdown",
      "metadata": {
        "id": "view-in-github",
        "colab_type": "text"
      },
      "source": [
        "<a href=\"https://colab.research.google.com/github/Hogan9387/Introduction-to-Computers/blob/main/0508.ipynb\" target=\"_parent\"><img src=\"https://colab.research.google.com/assets/colab-badge.svg\" alt=\"Open In Colab\"/></a>"
      ]
    },
    {
      "cell_type": "code",
      "execution_count": 5,
      "metadata": {
        "colab": {
          "base_uri": "https://localhost:8080/"
        },
        "id": "4WZKf0w-WiK6",
        "outputId": "c932bb95-37c2-4460-a50e-1adb3a8583aa"
      },
      "outputs": [
        {
          "output_type": "stream",
          "name": "stdout",
          "text": [
            "0508\n"
          ]
        }
      ],
      "source": [
        "print(\"0508\")"
      ]
    },
    {
      "cell_type": "code",
      "source": [
        "score = int(input('請輸入分數:'))\n",
        "if score >= 60: \n",
        "  print('及格')\n",
        "else: \n",
        "  print('不及格')"
      ],
      "metadata": {
        "colab": {
          "base_uri": "https://localhost:8080/"
        },
        "id": "McyV5TPfXs0r",
        "outputId": "7fbffa5b-abad-4d32-c3a2-ffea4c174963"
      },
      "execution_count": 2,
      "outputs": [
        {
          "output_type": "stream",
          "name": "stdout",
          "text": [
            "請輸入分數:40\n",
            "不及格\n"
          ]
        }
      ]
    },
    {
      "cell_type": "code",
      "source": [
        "設定密碼 = int(input(\"請設定一個四位數密碼:\"))"
      ],
      "metadata": {
        "colab": {
          "base_uri": "https://localhost:8080/"
        },
        "id": "72ltbOT8e0tt",
        "outputId": "3f7c04db-fac5-4106-ded3-cde95a1cb235"
      },
      "execution_count": 6,
      "outputs": [
        {
          "name": "stdout",
          "output_type": "stream",
          "text": [
            "請設定一個四位數密碼:1234\n"
          ]
        }
      ]
    },
    {
      "cell_type": "code",
      "source": [
        "通關密碼 = int(input(\"請輸入通密碼:\"))\n",
        "if (通關密碼 == 設定密碼):\n",
        "  print(\"歡迎光臨!\")"
      ],
      "metadata": {
        "colab": {
          "base_uri": "https://localhost:8080/"
        },
        "id": "ebmJR-OLgA7G",
        "outputId": "572a59d3-c57a-4617-aff2-df2486a4854c"
      },
      "execution_count": 7,
      "outputs": [
        {
          "output_type": "stream",
          "name": "stdout",
          "text": [
            "請輸入通密碼:1234\n",
            "歡迎光臨!\n"
          ]
        }
      ]
    },
    {
      "cell_type": "code",
      "source": [
        "通關密碼 = int(input(\"請輸入通密碼:\"))\n",
        "if (通關密碼 == 設定密碼):\n",
        "  print(\"歡迎光臨!\")"
      ],
      "metadata": {
        "colab": {
          "base_uri": "https://localhost:8080/"
        },
        "id": "CZ2AhuCBgDuj",
        "outputId": "57a4b4cd-4fd6-4d92-9ed9-f83a1202e6f0"
      },
      "execution_count": 8,
      "outputs": [
        {
          "name": "stdout",
          "output_type": "stream",
          "text": [
            "請輸入通密碼:5555\n"
          ]
        }
      ]
    },
    {
      "cell_type": "code",
      "source": [
        "通關密碼 = int(input(\"請輸入通密碼:\"))\n",
        "if (通關密碼 == 設定密碼):\n",
        "  print(\"歡迎光臨!\")\n",
        "else :\n",
        "  print(\"密碼錯誤\")"
      ],
      "metadata": {
        "colab": {
          "base_uri": "https://localhost:8080/"
        },
        "id": "BI-bXDSjgJDA",
        "outputId": "d4256739-6d32-4f05-9829-8574d3d4ed0e"
      },
      "execution_count": 9,
      "outputs": [
        {
          "output_type": "stream",
          "name": "stdout",
          "text": [
            "請輸入通密碼:5555\n",
            "密碼錯誤\n"
          ]
        }
      ]
    },
    {
      "cell_type": "code",
      "source": [
        "rain = str(input(\"今天會下雨嗎?\"))\n",
        "if (rain==\"y\" or rain==\"Y\"):\n",
        "  print(\"出門記得帶傘!\")"
      ],
      "metadata": {
        "colab": {
          "base_uri": "https://localhost:8080/"
        },
        "id": "Sc939hVKgOW9",
        "outputId": "b4a14b15-1846-4c75-d6f9-30cb9b73dff2"
      },
      "execution_count": 10,
      "outputs": [
        {
          "output_type": "stream",
          "name": "stdout",
          "text": [
            "今天會下雨嗎?y\n",
            "出門記得帶傘!\n"
          ]
        }
      ]
    },
    {
      "cell_type": "code",
      "source": [
        "number = int(input(\"請輸入正整數:\"))\n",
        "if (number%2 == 0):\n",
        "  print(number,\"為偶數!\")\n",
        "else :\n",
        "  print(number,\"為奇數!\")"
      ],
      "metadata": {
        "colab": {
          "base_uri": "https://localhost:8080/"
        },
        "id": "oZddyANLgTkj",
        "outputId": "18c05384-fca7-4f46-a529-6bb6aeb9e249"
      },
      "execution_count": 11,
      "outputs": [
        {
          "output_type": "stream",
          "name": "stdout",
          "text": [
            "請輸入正整數:14\n",
            "14 為偶數!\n"
          ]
        }
      ]
    },
    {
      "cell_type": "code",
      "source": [
        "number = int(input(\"請輸入正整數:\"))\n",
        "if (number%2 == 0):\n",
        "  print(number,\"為偶數!\")\n",
        "else :\n",
        "  print(number,\"為奇數!\")"
      ],
      "metadata": {
        "colab": {
          "base_uri": "https://localhost:8080/"
        },
        "id": "M0pKFjmFgXB3",
        "outputId": "5df8afe1-45b7-46f7-fe78-c1f9b70dcd98"
      },
      "execution_count": 12,
      "outputs": [
        {
          "output_type": "stream",
          "name": "stdout",
          "text": [
            "請輸入正整數:3\n",
            "3 為奇數!\n"
          ]
        }
      ]
    }
  ]
}